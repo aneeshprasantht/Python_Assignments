{
 "cells": [
  {
   "cell_type": "code",
   "execution_count": 1,
   "id": "02ad945c",
   "metadata": {},
   "outputs": [
    {
     "name": "stdout",
     "output_type": "stream",
     "text": [
      "Welcome to Assignment 1\n"
     ]
    }
   ],
   "source": [
    "print(\"Welcome to Assignment 1\")"
   ]
  },
  {
   "cell_type": "code",
   "execution_count": null,
   "id": "2e842fdd",
   "metadata": {},
   "outputs": [],
   "source": []
  },
  {
   "cell_type": "code",
   "execution_count": 10,
   "id": "69c39e7f",
   "metadata": {},
   "outputs": [
    {
     "name": "stdout",
     "output_type": "stream",
     "text": [
      "Number 1 = 10\n",
      "Number 2 = 30\n",
      "Add = 40\n"
     ]
    }
   ],
   "source": [
    "num1=10\n",
    "print(\"Number 1 =\",num1)\n",
    "num2 =30\n",
    "print(\"Number 2 =\",num2)\n",
    "Add = num1 + num2\n",
    "print(\"Add =\",Add)"
   ]
  },
  {
   "cell_type": "code",
   "execution_count": null,
   "id": "d5d6a105",
   "metadata": {},
   "outputs": [],
   "source": []
  },
  {
   "cell_type": "code",
   "execution_count": 34,
   "id": "e071f428",
   "metadata": {
    "scrolled": true
   },
   "outputs": [
    {
     "name": "stdout",
     "output_type": "stream",
     "text": [
      "Enter the BMI Index:34\n",
      "Obesity Class 1\n"
     ]
    }
   ],
   "source": [
    "bmi= int(input(\"Enter the BMI Index:\"))\n",
    "if(bmi < 18.5):\n",
    "    print(\"Under Weight\")\n",
    "elif(bmi < 24.9):\n",
    "    print(\"Normal Weight\")\n",
    "elif(bmi < 29.9):\n",
    "    print(\"Over Weight\")\n",
    "elif(bmi < 34.9):\n",
    "    print(\"Obesity Class 1\")\n",
    "elif(bmi < 39.9):\n",
    "    print(\"Obesity Class 2\")\n",
    "else:\n",
    "    print(\"Obesity Class 3\")"
   ]
  },
  {
   "cell_type": "code",
   "execution_count": null,
   "id": "87194e52",
   "metadata": {},
   "outputs": [],
   "source": []
  }
 ],
 "metadata": {
  "kernelspec": {
   "display_name": "Python 3 (ipykernel)",
   "language": "python",
   "name": "python3"
  },
  "language_info": {
   "codemirror_mode": {
    "name": "ipython",
    "version": 3
   },
   "file_extension": ".py",
   "mimetype": "text/x-python",
   "name": "python",
   "nbconvert_exporter": "python",
   "pygments_lexer": "ipython3",
   "version": "3.11.3"
  }
 },
 "nbformat": 4,
 "nbformat_minor": 5
}
